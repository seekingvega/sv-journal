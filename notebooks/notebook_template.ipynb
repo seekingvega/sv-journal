{
 "cells": [
  {
   "cell_type": "raw",
   "id": "e7194dcd-596b-4a8c-b23b-30dbaedd375f",
   "metadata": {},
   "source": [
    "---\n",
    "title: \"notebook template for authoring in quarto\"\n",
    "date: 08/15/2024\n",
    "date-format: full\n",
    "author: papa john\n",
    "license: \"CC BY-NC-SA\"\n",
    "categories:\n",
    "    - how-to\n",
    "    - template\n",
    "keywords:\n",
    "    - how-to\n",
    "    - template\n",
    "format:\n",
    "    html:\n",
    "        code-fold: true\n",
    "        toc: true\n",
    "        toc-depth: 3\n",
    "        toc-expand: 2\n",
    "        toc-title: Contents\n",
    "        toc-location: left\n",
    "jupyter: python3\n",
    "---"
   ]
  },
  {
   "cell_type": "markdown",
   "id": "e1a9b479",
   "metadata": {},
   "source": [
    "# Notebook Template\n",
    "the inclusion or exclusion of this page in the listing (see `index.qmd`) can be controlled like [this](https://quarto.org/docs/websites/website-listings.html#listing-contents)\n",
    "\n",
    "## This is a header 2\n",
    "the [table of content](https://quarto.org/docs/output-formats/html-basics.html#table-of-contents) for each page is controlled in the [raw cell](https://quarto.org/docs/tools/vscode-notebook.html#yaml-front-matter) in this notebook with the [YAML front matter](https://quarto.org/docs/authoring/front-matter.html)\n",
    "\n",
    "### This is a header 3\n",
    "notebook are **never executed by default** but can be configured per [here](https://quarto.org/docs/tools/vscode-notebook.html#cell-execution)\n",
    "\n",
    "And despite the [execution feature of freeze](https://quarto.org/docs/projects/code-execution.html#notebooks), and the [various ways](https://www.perplexity.ai/search/in-quarto-how-do-you-skip-a-ju-6QmWp8NpQ2ufAOuBnBqd4A#0) to control it; according to this [github issue](https://github.com/quarto-dev/quarto-cli/discussions/3661#discussioncomment-4403945):\n",
    "> think we have a misconception about what freeze is about.\n",
    "Regardless of the presence of code cells, all files needed for the website are rendered from what I've seen.\n",
    "...\n",
    "If I am not mistaken, this means there is a \"missing\" feature allowing the user to not render at all to HTML if there is no reason, i.e., not only the content of the \"page\" but any Quarto component involved in that page such as navbar, footer, etc.\n",
    "\n",
    "So basically when you have computationally expensive notebooks and various collaboraters, it's best to just render only the notebook you have updated (it's dependences, like the listing page, will also be rendered):\n",
    "```\n",
    "quarto render notebooks/only_notebook_with_changes.ipynb\n",
    "\n",
    "# if changes are not with notebooks\n",
    "quarto render index.qmd\n",
    "```\n",
    "\n",
    "#### This is a header 4\n",
    "the code block below are quarto specific imports to pay attention to"
   ]
  },
  {
   "cell_type": "code",
   "execution_count": 1,
   "id": "506c4383",
   "metadata": {},
   "outputs": [],
   "source": [
    "import plotly.express as px\n",
    "\n",
    "# need this for plotly charts to render properly: https://stackoverflow.com/a/78749656\n",
    "import plotly.io as pio\n",
    "pio.renderers.default = \"notebook\""
   ]
  },
  {
   "cell_type": "markdown",
   "id": "264923a2",
   "metadata": {},
   "source": [
    "output of cells can be suppressed"
   ]
  },
  {
   "cell_type": "code",
   "execution_count": 2,
   "id": "b5be3ef0-a205-46ad-a7c5-086661243dd2",
   "metadata": {},
   "outputs": [
    {
     "name": "stdout",
     "output_type": "stream",
     "text": [
      "pray to your Father who is in secret...\n"
     ]
    }
   ],
   "source": [
    "#| output: false\n",
    "print(f'pray to your Father who is in secret...')"
   ]
  },
  {
   "cell_type": "markdown",
   "id": "97f37071",
   "metadata": {},
   "source": [
    "or you can show the outputs but not the cell (further documentations can be found [here](https://quarto.org/docs/computations/execution-options.html#raw-output))"
   ]
  },
  {
   "cell_type": "code",
   "execution_count": 3,
   "id": "f987927e",
   "metadata": {},
   "outputs": [
    {
     "name": "stdout",
     "output_type": "stream",
     "text": [
      "and your Father who sees what is done in secret will reward you.\n"
     ]
    }
   ],
   "source": [
    "#| output: true\n",
    "#| echo: false\n",
    "print(f'and your Father who sees what is done in secret will reward you.')"
   ]
  },
  {
   "cell_type": "code",
   "execution_count": 5,
   "id": "22b015e4",
   "metadata": {},
   "outputs": [
    {
     "name": "stdout",
     "output_type": "stream",
     "text": [
      "the width of your content is also adjustable like this image (see [doc](https://quarto.org/docs/authoring/article-layout.html))\n",
      "![](https://www.quoteswishesmsg.com/wp-content/uploads/2020/05/Best-Rumi-quotes-1.jpg)\n"
     ]
    }
   ],
   "source": [
    "#| column: page\n",
    "#| output: asis\n",
    "print(\"the width of your content is also adjustable like this image (see [doc](https://quarto.org/docs/authoring/article-layout.html))\")\n",
    "print(\"![](https://www.quoteswishesmsg.com/wp-content/uploads/2020/05/Best-Rumi-quotes-1.jpg)\")"
   ]
  },
  {
   "cell_type": "markdown",
   "id": "d47f8ddf",
   "metadata": {},
   "source": [
    "and there's more! figures and charts can be displayed [side-by-side in columns and rows](https://quarto.org/docs/authoring/figures.html#subcaptions), read the docs for more!"
   ]
  },
  {
   "cell_type": "markdown",
   "id": "f0de06a2",
   "metadata": {},
   "source": [
    "## Starting Notebook\n",
    "[this method](https://stackoverflow.com/a/47509274) might not be the safest but running locally should be okay:\n",
    "```\n",
    "jupyter notebook --ip='*' --NotebookApp.token='' --NotebookApp.password=''\n",
    "```\n",
    "or\n",
    "```\n",
    "jupyter nbclassic\n",
    "```\n",
    "\n",
    "## Notebook Extension\n",
    "[this post](https://medium.com/@maxtingle/10-jupyter-notebook-extensions-making-my-lyfe-easier-f40139a334ce) talks about a list of great extension that might help with writing notebooks\n",
    "\n",
    "However, making these extension configurable in a virtualenv might require [different installation steps](https://github.com/Jupyter-contrib/jupyter_nbextensions_configurator?tab=readme-ov-file#installation) \n",
    "\n",
    "And it [might not be compatible](https://stackoverflow.com/a/75669901) with some version of notebooks.\n",
    "\n",
    "So to uninstall the extensions follow [these steps](https://github.com/ipython-contrib/jupyter_contrib_nbextensions/issues/1012#issuecomment-309448477)"
   ]
  },
  {
   "cell_type": "code",
   "execution_count": null,
   "id": "c8257ab5",
   "metadata": {},
   "outputs": [],
   "source": []
  }
 ],
 "metadata": {
  "kernelspec": {
   "display_name": "Python 3 (ipykernel)",
   "language": "python",
   "name": "python3"
  },
  "language_info": {
   "codemirror_mode": {
    "name": "ipython",
    "version": 3
   },
   "file_extension": ".py",
   "mimetype": "text/x-python",
   "name": "python",
   "nbconvert_exporter": "python",
   "pygments_lexer": "ipython3",
   "version": "3.9.19"
  }
 },
 "nbformat": 4,
 "nbformat_minor": 5
}
