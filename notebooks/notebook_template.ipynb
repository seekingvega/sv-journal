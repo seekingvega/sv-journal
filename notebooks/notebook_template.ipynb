{
 "cells": [
  {
   "cell_type": "raw",
   "id": "e7194dcd-596b-4a8c-b23b-30dbaedd375f",
   "metadata": {},
   "source": [
    "---\n",
    "title: \"notebook template for authoring in quarto\"\n",
    "date: 08/15/2024\n",
    "date-format: full\n",
    "author: papa john\n",
    "license: \"CC BY-NC-SA\"\n",
    "keywords:\n",
    "    - how-to\n",
    "    - template\n",
    "format:\n",
    "    html:\n",
    "        code-fold: true\n",
    "        toc: true\n",
    "        toc-depth: 3\n",
    "        toc-expand: 2\n",
    "        toc-title: Contents\n",
    "        toc-location: left\n",
    "jupyter: python3\n",
    "---"
   ]
  },
  {
   "cell_type": "markdown",
   "id": "e1a9b479",
   "metadata": {},
   "source": [
    "# Notebook Template\n",
    "the inclusion or exclusion of this page in the listing (see `index.qmd`) can be controlled like [this](https://quarto.org/docs/websites/website-listings.html#listing-contents)\n",
    "\n",
    "## This is a header 2\n",
    "the [table of content](https://quarto.org/docs/output-formats/html-basics.html#table-of-contents) for each page is controlled in the [raw cell](https://quarto.org/docs/tools/vscode-notebook.html#yaml-front-matter) in this notebook with the [YAML front matter](https://quarto.org/docs/authoring/front-matter.html)\n",
    "\n",
    "### This is a header 3\n",
    "notebook are **never executed by default** but can be configured per [here](https://quarto.org/docs/tools/vscode-notebook.html#cell-execution)\n",
    "\n",
    "#### This is a header 4\n",
    "the code block below are quarto specific imports to pay attention to"
   ]
  },
  {
   "cell_type": "code",
   "execution_count": 1,
   "id": "506c4383",
   "metadata": {},
   "outputs": [],
   "source": [
    "import plotly.express as px\n",
    "\n",
    "# need this for plotly charts to render properly: https://stackoverflow.com/a/78749656\n",
    "import plotly.io as pio\n",
    "pio.renderers.default = \"notebook\""
   ]
  },
  {
   "cell_type": "code",
   "execution_count": null,
   "id": "b5be3ef0-a205-46ad-a7c5-086661243dd2",
   "metadata": {},
   "outputs": [],
   "source": []
  }
 ],
 "metadata": {
  "kernelspec": {
   "display_name": "Python 3 (ipykernel)",
   "language": "python",
   "name": "python3"
  },
  "language_info": {
   "codemirror_mode": {
    "name": "ipython",
    "version": 3
   },
   "file_extension": ".py",
   "mimetype": "text/x-python",
   "name": "python",
   "nbconvert_exporter": "python",
   "pygments_lexer": "ipython3",
   "version": "3.12.0"
  }
 },
 "nbformat": 4,
 "nbformat_minor": 5
}
